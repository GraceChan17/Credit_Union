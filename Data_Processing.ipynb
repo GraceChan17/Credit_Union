{
 "cells": [
  {
   "cell_type": "markdown",
   "metadata": {},
   "source": [
    "## Response to Fed's Rate Cut: Credit Union vs. Bank"
   ]
  },
  {
   "cell_type": "markdown",
   "metadata": {},
   "source": [
    "### 1. Research Question Refinement\n",
    "\"How do credit unions adjust their deposit rates in response to federal funds rate decreases compared to banks?\"\n",
    "\n",
    "Institutional Level"
   ]
  },
  {
   "cell_type": "markdown",
   "metadata": {},
   "source": [
    "### 2. Data Organization\n",
    "#### 2.1 Dependent Variables (from RateWatch)\n",
    "\n",
    "2.1.1 Core Deposit Products:\n",
    "- Regular savings accounts(SAV)\n",
    "- Money market accounts(MM)\n",
    "- Interest checking account(INTCK)\n",
    "\n",
    "2.1.2 Time Deposits:\n",
    "- Short-term CDs (1-5 years)\n",
    "- Long-term CDs (5+ years)\n",
    "\n",
    "\n",
    "#### 2.2 Control Variables (from Call Reports)\n",
    "\n",
    "2.2.1 Institution Characteristics\n",
    "\n",
    "Primary Controls:\n",
    "- total_assets: Size control\n",
    "- capital_adequacy: Risk measure\n",
    "- marketShare: Market power\n",
    "- ROA: Profitability\n",
    "\n",
    "Secondary Controls:\n",
    "- branches: Physical presence\n",
    "- members (for CUs): Customer base\n",
    "- loan_assets_ratio: Business model\n",
    "\n",
    "\n",
    "2.2.2 Market Characteristics\n",
    "\n",
    "- state: Geographic location\n",
    "- region_census: Regional effects\n",
    "- mean_assets_state: Market structure\n",
    "- mean_ROA_state: Market performance"
   ]
  },
  {
   "cell_type": "code",
   "execution_count": null,
   "metadata": {},
   "outputs": [],
   "source": [
    "\n",
    "\n",
    "\n",
    "\n",
    "\n",
    "\n",
    "\n",
    "\n",
    "\n",
    "\n",
    "\n",
    "\n",
    "\n",
    "\n",
    "\n",
    "\n"
   ]
  }
 ],
 "metadata": {
  "language_info": {
   "name": "python"
  }
 },
 "nbformat": 4,
 "nbformat_minor": 2
}
